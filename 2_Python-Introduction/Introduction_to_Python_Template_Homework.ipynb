{
 "cells": [
  {
   "cell_type": "markdown",
   "metadata": {
    "heading_collapsed": true,
    "id": "IQZPHNVGE0jj"
   },
   "source": [
    "# Homework Introduction to Python"
   ]
  },
  {
   "cell_type": "markdown",
   "metadata": {
    "hidden": true,
    "id": "yKMR8ypqE0jn"
   },
   "source": [
    "$\\textbf{Ubah nama di bawah yaa!}$"
   ]
  },
  {
   "cell_type": "markdown",
   "metadata": {
    "hidden": true,
    "id": "bQ7VJlKEE0jo"
   },
   "source": [
    "- Nama: Deni Yuniawan\n",
    "- Batch: 45"
   ]
  },
  {
   "cell_type": "code",
   "execution_count": 9,
   "metadata": {
    "ExecuteTime": {
     "end_time": "2020-11-12T13:26:22.209983Z",
     "start_time": "2020-11-12T13:26:21.360470Z"
    },
    "hidden": true,
    "id": "4g2oLkevE0jo"
   },
   "outputs": [],
   "source": [
    "import numpy as np\n",
    "\n",
    "# please import as much as you need"
   ]
  },
  {
   "cell_type": "markdown",
   "metadata": {
    "id": "cgd-tTOjE0jr"
   },
   "source": [
    "# Normal"
   ]
  },
  {
   "cell_type": "markdown",
   "metadata": {
    "heading_collapsed": true,
    "id": "ed8OiWGeE0jr"
   },
   "source": [
    "## 1. Operasi Variabel\n",
    "\n",
    "> Misal kita memiliki toko sepatu. Modal membeli 1 kodi sepatu adalah Rp 1.000.000. Setiap sepatu dijual seharga Rp 80.000. Buatlah variabel modal, kuantitas, dan harga_jual sesuai informasi di atas. Hitung profit yang didapatkan jika semua sepatu berhasil terjual, dan masukkan ke variabel profit.\n",
    "\n",
    "Saran langkah-langkah pengerjaan\n",
    "1. Convert terlebih dahulu kodi dalam jumlah barang (1 kodi = xyz buah sepatu)\n",
    "2. Gunakan operasi matematika sederhana untuk menghitung profit menggunakan tiga buah variabel yang sudah ditentukan"
   ]
  },
  {
   "cell_type": "code",
   "execution_count": 10,
   "metadata": {
    "ExecuteTime": {
     "end_time": "2021-10-23T10:20:16.843127Z",
     "start_time": "2021-10-23T10:20:16.835236Z"
    },
    "hidden": true,
    "id": "ThOB9tEME0js",
    "scrolled": true
   },
   "outputs": [
    {
     "name": "stdout",
     "output_type": "stream",
     "text": [
      "Modal Total: 1000000 Rupiah\n",
      "Kuantitas Sepatu: 20 buah\n",
      "Total Pendapatan: 1600000 Rupiah\n",
      "Profit: 600000 Rupiah\n"
     ]
    }
   ],
   "source": [
    "# Modal membeli 1 kodi sepatu (dalam Rupiah)\n",
    "modal_per_kodi = 1000000\n",
    "\n",
    "# Harga jual per sepatu (dalam Rupiah)\n",
    "harga_jual_per_sepatu = 80000\n",
    "\n",
    "# Jumlah sepatu dalam 1 kodi\n",
    "jumlah_sepatu_per_kodi = 20\n",
    "\n",
    "# Kuantitas kodi sepatu yang dibeli\n",
    "kuantitas_kodi = 1\n",
    "\n",
    "# Convert kodi menjadi jumlah sepatu\n",
    "kuantitas = kuantitas_kodi * jumlah_sepatu_per_kodi\n",
    "\n",
    "# Hitung modal total\n",
    "modal_total = modal_per_kodi * kuantitas_kodi\n",
    "\n",
    "# Hitung total pendapatan dari penjualan semua sepatu\n",
    "total_pendapatan = kuantitas * harga_jual_per_sepatu\n",
    "\n",
    "# Hitung profit menggunakan operasi matematika sederhana\n",
    "profit = total_pendapatan - modal_total\n",
    "\n",
    "# Cetak hasil\n",
    "print(\"Modal Total:\", modal_total, \"Rupiah\")\n",
    "print(\"Kuantitas Sepatu:\", kuantitas, \"buah\")\n",
    "print(\"Total Pendapatan:\", total_pendapatan, \"Rupiah\")\n",
    "print(\"Profit:\", profit, \"Rupiah\")"
   ]
  },
  {
   "cell_type": "markdown",
   "metadata": {
    "hidden": true,
    "id": "8GaDbS89E0js"
   },
   "source": [
    "Jadi, dari profit di atas, dapat disimpulkan bahwa...\n",
    "\n",
    "* Modal Total: 1000000 Rupiah \n",
    "* Kuantitas Sepatu: 20 buah \n",
    "* Total Pendapatan: 1600000 Rupiah \n",
    "* Profit: 600000 Rupiah"
   ]
  },
  {
   "cell_type": "markdown",
   "metadata": {
    "id": "5oTZCAI4E0ju"
   },
   "source": [
    "## 2. Package Python dan Dictionary\n",
    "\n",
    "> Kita akan coba mengakses data scientific article dari PLOS corpus\n",
    "    Menggunakan API request dengan kode berikut :\n",
    "```\n",
    "import requests\n",
    "response = requests.get('http://api.plos.org/search?q=title:\"Drosophila\" AND body:\"RNA\"&fl=id,abstract')\n",
    "```\n",
    "**perhatikan tanda kutipnya tidak salah ketika meng-copy ke dalam python\n",
    "\n",
    "Pertanyaannya :\n",
    "Convert response.content dari request tersebut dari JSON Format ke dalam Dictionary, dan print-kan key di dalamnya apa saja\n",
    "\n",
    "Saran langkah-langkah pengerjaan\n",
    "1. Ikuti code dari soal, kemudian ekstrak value dari variable response menggunakan dot (.) content menjadi sebuah variabel baru (dictionary)\n",
    "2. Gunakan library json, convert hasil content menggunakan json.loads\n",
    "3. Print keys dari dictionary tersebut\n"
   ]
  },
  {
   "cell_type": "code",
   "execution_count": 11,
   "metadata": {
    "ExecuteTime": {
     "end_time": "2021-10-23T10:20:40.890513Z",
     "start_time": "2021-10-23T10:20:40.882963Z"
    },
    "id": "RY1kdZAUE0ju"
   },
   "outputs": [
    {
     "name": "stdout",
     "output_type": "stream",
     "text": [
      "dict_keys(['response'])\n",
      "dict_keys(['numFound', 'start', 'docs'])\n",
      "dict_keys(['id', 'abstract'])\n"
     ]
    }
   ],
   "source": [
    "# your code goes hemport requests\n",
    "import requests\n",
    "import json\n",
    "\n",
    "# Mengirim permintaan API\n",
    "response = requests.get('http://api.plos.org/search?q=title:\"Drosophila\" AND body:\"RNA\"&fl=id,abstract')\n",
    "dataset = response.content\n",
    "\n",
    "#parsingjson\n",
    "dataset_parse = json.loads(dataset)\n",
    "\n",
    "#printkey di dalam dict dataset parse\n",
    "print(dataset_parse.keys())\n",
    "#printnestedkey\n",
    "print(dataset_parse['response'].keys())\n",
    "#printmorenestedkey\n",
    "print(dataset_parse['response']['docs'][0].keys())"
   ]
  },
  {
   "cell_type": "markdown",
   "metadata": {
    "id": "rvQnd_NgE0jv"
   },
   "source": [
    "Jadi, dari url link di atas, kami menyimpulkan bahwa memiliki keys ...\n",
    "- '*Response*'"
   ]
  },
  {
   "cell_type": "markdown",
   "metadata": {
    "id": "wWstgpwIPDwR"
   },
   "source": [
    "# Intermediate"
   ]
  },
  {
   "cell_type": "markdown",
   "metadata": {
    "id": "AI0lJNgDE0jv"
   },
   "source": [
    "## 3. Operasi dalam List\n",
    "\n",
    "> Buatlah list dengan 10 nama kota di indonesia, kemudian:\n",
    "1. Urutkan nama kota di dalam list berdasarkan abjad (a)\n",
    "2. Ambil 4 kota pertama dari list tersebut (yang telah diurutkan) (b)\n",
    "3. Ambil 3 kota terakhir dari list tersebut (yang telah diurutkan) (c)\n",
    "\n",
    "Saran langkah-langkah pengerjaan\n",
    "1. Tidak ada ketentuan nama kota (misal berdasarkan provinsi X atau pulau Y), dibebaskan untuk memilih. Buat nama-nama kota tersebut dalam sebuah list.\n",
    "2. Gunakan fungsi sorted(X) untuk mengurutkan secara kecil-ke-besar (sesuai abjad), dimana X adalah contoh variabel list pada langkah (a)\n",
    "3. Gunakan hasil poin (a), urutkan nama kota di dalam list berdasarkan abjad, untuk mengerjakan poin (b) dan (c)."
   ]
  },
  {
   "cell_type": "code",
   "execution_count": 12,
   "metadata": {
    "ExecuteTime": {
     "end_time": "2021-10-23T10:20:47.306584Z",
     "start_time": "2021-10-23T10:20:47.299827Z"
    },
    "id": "piGxWfIAE0jw",
    "scrolled": true
   },
   "outputs": [
    {
     "name": "stdout",
     "output_type": "stream",
     "text": [
      "a. Nama kota diurutkan berdasarkan abjad: ['Balikpapan', 'Denpasar', 'Depok', 'Jakarta', 'Makassar', 'Malang', 'Medan', 'Samarinda', 'Surabaya', 'Tangerang']\n",
      "b. 4 Kota pertama: ['Balikpapan', 'Denpasar', 'Depok', 'Jakarta']\n",
      "c. 3 Kota terakhir: ['Samarinda', 'Surabaya', 'Tangerang']\n"
     ]
    }
   ],
   "source": [
    "# Membuat list dengan 10 nama kota di Indonesia\n",
    "nama_kota = ['Jakarta', 'Surabaya', 'Balikpapan', 'Medan', 'Samarinda', \n",
    "             'Makassar', 'Denpasar', 'Tangerang', 'Depok', 'Malang']\n",
    "\n",
    "# Mengurutkan nama kota berdasarkan abjad\n",
    "nama_kota_urutan = sorted(nama_kota)\n",
    "\n",
    "# Mengambil 4 kota pertama dari list yang telah diurutkan\n",
    "kota_awal = nama_kota_urutan[:4]\n",
    "\n",
    "# Mengambil 3 kota terakhir dari list yang telah diurutkan\n",
    "kota_akhir = nama_kota_urutan[-3:]\n",
    "\n",
    "# Menampilkan hasil\n",
    "print(\"a. Nama kota diurutkan berdasarkan abjad:\", nama_kota_urutan)\n",
    "print(\"b. 4 Kota pertama:\", kota_awal)\n",
    "print(\"c. 3 Kota terakhir:\", kota_akhir)"
   ]
  },
  {
   "cell_type": "markdown",
   "metadata": {
    "id": "FpbGs5EaE0jw"
   },
   "source": [
    "Jadi, dari operasi list di atas, dapat disimpulkan bahwa...\n",
    "\n",
    "a. Nama kota diurutkan berdasarkan abjad: ['Balikpapan', 'Denpasar', 'Depok', 'Jakarta', 'Makassar', 'Malang', 'Medan', 'Samarinda', 'Surabaya', 'Tangerang']\n",
    "\n",
    "b. 4 Kota pertama: ['Balikpapan', 'Denpasar', 'Depok', 'Jakarta']\n",
    "\n",
    "c. 3 Kota terakhir: ['Samarinda', 'Surabaya', 'Tangerang']"
   ]
  },
  {
   "cell_type": "markdown",
   "metadata": {
    "id": "6nanVjCCE0jx"
   },
   "source": [
    "## 4. Function dalam List\n",
    "\n",
    "> Team sales memiliki list total transaksi dari 10 merchant pada bulan Juni 2020, yaitu:\n",
    "```\n",
    "total_transaksi = [ 19, 35, 23, 25, 10, 15, 33, 45, 21, 30 ]\n",
    "```\n",
    "1. Trx minimum\n",
    "2. Rata-rata\n",
    "3. Trx maksimal\n",
    "\n",
    "Saran langkah-langkah pengerjaan\n",
    "1. Copy variabel total_transaksi yang ada di soal ke notebook kita (atau ketik ulang boleh)\n",
    "2. Kemudian, hitung menggunakan function operasi dalam list yang telah dipelajari di kelas pada topik list. Print hasilnya setiap poin (a), (b), dan (c)"
   ]
  },
  {
   "cell_type": "code",
   "execution_count": 13,
   "metadata": {
    "ExecuteTime": {
     "end_time": "2021-10-23T10:20:52.903045Z",
     "start_time": "2021-10-23T10:20:52.894900Z"
    },
    "id": "HxvjrB2RE0jx",
    "scrolled": true
   },
   "outputs": [
    {
     "name": "stdout",
     "output_type": "stream",
     "text": [
      "a. Transaksi minimum: 10\n",
      "b. Rata-rata transaksi: 25.6\n",
      "c. Transaksi maksimal: 45\n"
     ]
    }
   ],
   "source": [
    "# Copy variabel total_transaksi\n",
    "total_transaksi = [19, 35, 23, 25, 10, 15, 33, 45, 21, 30]\n",
    "\n",
    "# Trx minimum\n",
    "trx_minimum = min(total_transaksi)\n",
    "print(\"a. Transaksi minimum:\", trx_minimum)\n",
    "\n",
    "# Rata-rata\n",
    "rata_rata = sum(total_transaksi) / len(total_transaksi)\n",
    "print(\"b. Rata-rata transaksi:\", rata_rata)\n",
    "\n",
    "# Trx maksimal\n",
    "trx_maksimal = max(total_transaksi)\n",
    "print(\"c. Transaksi maksimal:\", trx_maksimal)"
   ]
  },
  {
   "cell_type": "markdown",
   "metadata": {
    "id": "UgHXbAOqE0jx"
   },
   "source": [
    "Jadi, dari hasil operasi list di atas, dapat disimpulkan bahwa nilai minimal, max, rata-rata...\n",
    "\n",
    "- a. Transaksi minimum: 10 \n",
    "- b. Rata-rata transaksi: 25.6 \n",
    "- c. Transaksi maksimal: 45"
   ]
  },
  {
   "cell_type": "markdown",
   "metadata": {
    "id": "f4EkwISgE0jx"
   },
   "source": [
    "# Advanced"
   ]
  },
  {
   "cell_type": "markdown",
   "metadata": {
    "id": "fmaX-pu5E0jy"
   },
   "source": [
    "## 5. NumPy Array\n",
    "\n",
    "> Buatlah array dari 5 bilangan ganjil pertama (dimulai dari 1), Kemudian lakukan perintah berikut :\n",
    "1. Kali-kan array tersebut dengan 10\n",
    "2. Bagi-kan array (hasil dari bagian a) dengan 3\n",
    "3. Kali-kan array (hasil dari bagian b) dengan array baru :\n",
    "`[-45, 43, 3, 56, 5]`\n",
    "4. Carilah pada index ke-berapa nilai tertinggi dan terendah dari array (hasil dari bagian c)\n",
    "\n",
    "Saran langkah-langkah pengerjaan\n",
    "1. HATI-HATI dalam pengerjaan, karena apabila poin sebelumnya salah, maka selanjutnya akan kebawa salah (misal (b) salah, maka poin (c) sampai (d) akan salah)\n",
    "2. Untuk array 5 bilangan ganjil pertama boleh manual boleh menggunakan fungsi, dimulai dari 1\n",
    "3. Ikuti perintah soal, gunakan numpy array, jangan list. Sesuaikan dengan permintaan soal pada setiap butir.\n",
    "\n"
   ]
  },
  {
   "cell_type": "code",
   "execution_count": 14,
   "metadata": {
    "ExecuteTime": {
     "end_time": "2021-10-23T10:20:59.988806Z",
     "start_time": "2021-10-23T10:20:59.980744Z"
    },
    "id": "VTTOjU8wE0jy",
    "scrolled": true
   },
   "outputs": [
    {
     "name": "stdout",
     "output_type": "stream",
     "text": [
      "a. Hasil perkalian array dengan 10: [10 30 50 70 90]\n"
     ]
    }
   ],
   "source": [
    "import numpy as np\n",
    "\n",
    "# Buat array dari 5 bilangan ganjil pertama\n",
    "array_ganjil = np.array([1, 3, 5, 7, 9])\n",
    "\n",
    "# a. Kali-kan array tersebut dengan 10\n",
    "array_kali_10 = array_ganjil * 10\n",
    "print(\"a. Hasil perkalian array dengan 10:\", array_kali_10)"
   ]
  },
  {
   "cell_type": "code",
   "execution_count": 15,
   "metadata": {},
   "outputs": [
    {
     "name": "stdout",
     "output_type": "stream",
     "text": [
      "b. Hasil pembagian array dengan 3: [ 3.33333333 10.         16.66666667 23.33333333 30.        ]\n"
     ]
    }
   ],
   "source": [
    "# b. Bagi-kan array (hasil dari bagian a) dengan 3\n",
    "array_bagi_3 = array_kali_10 / 3\n",
    "print(\"b. Hasil pembagian array dengan 3:\", array_bagi_3)"
   ]
  },
  {
   "cell_type": "code",
   "execution_count": 16,
   "metadata": {},
   "outputs": [
    {
     "name": "stdout",
     "output_type": "stream",
     "text": [
      "c. Hasil perkalian array dengan array baru: [-150.          430.           50.         1306.66666667  150.        ]\n"
     ]
    }
   ],
   "source": [
    "# c. Kali-kan array (hasil dari bagian b) dengan array baru\n",
    "array_baru = np.array([-45, 43, 3, 56, 5])\n",
    "array_kali = array_bagi_3 * array_baru\n",
    "print(\"c. Hasil perkalian array dengan array baru:\", array_kali)"
   ]
  },
  {
   "cell_type": "code",
   "execution_count": 17,
   "metadata": {},
   "outputs": [
    {
     "name": "stdout",
     "output_type": "stream",
     "text": [
      "d. Index nilai tertinggi: 3\n",
      "   Index nilai terendah: 0\n",
      "   Nilai tertinggi: 1306.6666666666665\n",
      "   Nilai terendah: -150.0\n"
     ]
    }
   ],
   "source": [
    "# d. Carilah pada index ke-berapa nilai tertinggi dan terendah dari array (hasil dari bagian c)\n",
    "index_max = np.argmax(array_kali)\n",
    "index_min = np.argmin(array_kali)\n",
    "\n",
    "print(\"d. Index nilai tertinggi:\", index_max)\n",
    "print(\"   Index nilai terendah:\", index_min)\n",
    "print(\"   Nilai tertinggi:\", array_kali[index_max])\n",
    "print(\"   Nilai terendah:\", array_kali[index_min])"
   ]
  },
  {
   "cell_type": "markdown",
   "metadata": {
    "id": "wTkMvK_EE0jy"
   },
   "source": [
    "Jadi, dari hasil operasi numpy di atas, dapat disimpulkan bahwa..\n",
    "\n",
    "- a. Hasil perkalian array dengan 10: [10 30 50 70 90] \n",
    "- b. Hasil pembagian array dengan 3: [ 3.33333333 10. 16.66666667 23.33333333 30. ] \n",
    "- c. Hasil perkalian array dengan array baru: [-150. 430. 50. 1306.66666667 150. ] \n",
    "- d. Index nilai tertinggi: 3 Nilai tertinggi: 1306.6666666666665 \n",
    "\n",
    "- Index nilai terendah: 0 \n",
    "- Nilai terendah: -150.0"
   ]
  },
  {
   "cell_type": "markdown",
   "metadata": {
    "id": "LLIlxgN3Pmwj"
   },
   "source": [
    "# Terimakasih, salam "
   ]
  },
  {
   "cell_type": "markdown",
   "metadata": {},
   "source": []
  }
 ],
 "metadata": {
  "colab": {
   "provenance": []
  },
  "kernelspec": {
   "display_name": "base",
   "language": "python",
   "name": "python3"
  },
  "language_info": {
   "codemirror_mode": {
    "name": "ipython",
    "version": 3
   },
   "file_extension": ".py",
   "mimetype": "text/x-python",
   "name": "python",
   "nbconvert_exporter": "python",
   "pygments_lexer": "ipython3",
   "version": "3.11.10"
  },
  "toc": {
   "base_numbering": 1,
   "nav_menu": {},
   "number_sections": true,
   "sideBar": true,
   "skip_h1_title": false,
   "title_cell": "Table of Contents",
   "title_sidebar": "Contents",
   "toc_cell": false,
   "toc_position": {},
   "toc_section_display": true,
   "toc_window_display": true
  }
 },
 "nbformat": 4,
 "nbformat_minor": 0
}
